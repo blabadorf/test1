{
 "cells": [
  {
   "cell_type": "markdown",
   "metadata": {},
   "source": [
    "# Using APIs to Get Data From the Internet"
   ]
  },
  {
   "cell_type": "markdown",
   "metadata": {},
   "source": [
    "\n",
    "**API** means Application Programmer Interface - Interface is the thing that connects two things.\n",
    "\n",
    "An API is a set of instructions that describe how computers can interact with each other to request and receive information.\n",
    "\n",
    "Some important questions we will ask that help us discover APIs is below.\n",
    "\n",
    "|Question | In technical terms |\n",
    "|:---------|:--------------------|\n",
    "|Where is my data? | What is the domain? |\n",
    "|How do I learn what data is available?| Where is the documentation? |\n",
    "|How do I request specific data?| How do I formulate a URL for a specific purpose? |\n",
    "|How do I interpret the data?| What is the structure and format of the output?|\n",
    "\n"
   ]
  },
  {
   "cell_type": "markdown",
   "metadata": {},
   "source": [
    "**Let's walk through an example in the browser**\n",
    "\n",
    "PlaceKitten!\n",
    "\n",
    "In a browser, go to http://www.placekitten.com\n",
    "\n",
    "|In technical terms | PlaceKitten |\n",
    "|:---------|:--------------------|\n",
    "|What is the domain? | http://www.placekitten.com |\n",
    "|Where is the documentation?| The documentation is on the home page. |\n",
    "|How do I formulate a URL for a specific purpose? | You put it in the url like http://www.placekitten/width/height |\n",
    "|What is the structure and format of the output?| It's an image! |"
   ]
  },
  {
   "cell_type": "markdown",
   "metadata": {},
   "source": [
    "# Accessing placekitten in python\n",
    "\n",
    "We're going to use a special library called <code>requests</code>"
   ]
  },
  {
   "cell_type": "code",
   "execution_count": 1,
   "metadata": {},
   "outputs": [],
   "source": [
    "from IPython.display import display, Image  # This line lets you display images. We'll use that in a bit.\n",
    "\n",
    "# This line lets you use python to download data from the web.\n",
    "import requests"
   ]
  },
  {
   "cell_type": "code",
   "execution_count": null,
   "metadata": {},
   "outputs": [],
   "source": [
    "# Get a 200 by 300 image from placekitten.\n",
    "r = requests.get('http://www.placekitten.com/200/300')"
   ]
  },
  {
   "cell_type": "code",
   "execution_count": null,
   "metadata": {},
   "outputs": [],
   "source": [
    "# Look at the status code - 200 is the answer you're looking for\n",
    "r.status_code"
   ]
  },
  {
   "cell_type": "code",
   "execution_count": null,
   "metadata": {},
   "outputs": [],
   "source": [
    "# print the content - this is the code representing your imag\n",
    "r.content"
   ]
  },
  {
   "cell_type": "code",
   "execution_count": null,
   "metadata": {},
   "outputs": [],
   "source": [
    "# Use the Image function to display the image\n",
    "display(Image(r.content))"
   ]
  },
  {
   "cell_type": "markdown",
   "metadata": {},
   "source": [
    "### Exercise 1\n",
    "\n",
    "Write a function that takes in the width and height and prints an image"
   ]
  },
  {
   "cell_type": "code",
   "execution_count": null,
   "metadata": {},
   "outputs": [],
   "source": [
    "from IPython.display import display, Image\r\n",
    "import requests\r\n",
    "\r\n",
    "\r\n",
    "def printer1(width, height):\r\n",
    "    try:\r\n",
    "        int(width)\r\n",
    "        int(height)\r\n",
    "    except (SyntaxError, ValueError):\r\n",
    "        print(\"Please enter the number in digits.\")\r\n",
    "    r = requests.get(f'http://www.placekitten.com/{width}/{height}')\r\n",
    "    r.status_code\r\n",
    "    if r.status_code != 200:\r\n",
    "        print(\"404 Error, file not found.\")\r\n",
    "    return(display(Image(r.content)))\r\n",
    "\r\n",
    "printer1(400, 500)"
   ]
  },
  {
   "cell_type": "code",
   "execution_count": 2,
   "metadata": {},
   "outputs": [
    {
     "output_type": "display_data",
     "data": {
      "image/jpeg": "[encoded data removed]",
      "text/plain": "<IPython.core.display.Image object>"
     },
     "metadata": {}
    }
   ],
   "source": [
    "# here is the version that promts the user to enter it. I think this may make looping easier??? \n",
    "from IPython.display import display, Image\n",
    "import requests\n",
    "\n",
    "\n",
    "def printer(width = input(\"Enter the width of the image.\"), height = input(\"Enter the height of the image.\")):\n",
    "    try:\n",
    "        int(width)\n",
    "        int(height)\n",
    "    except (SyntaxError, ValueError):\n",
    "        print(\"Please enter the number in digits.\")\n",
    "    r = requests.get(f'http://www.placekitten.com/{width}/{height}')\n",
    "    r.status_code\n",
    "    if r.status_code != 200:\n",
    "        print(\"404 Error, file not found.\")\n",
    "    return(display(Image(r.content)))\n",
    "printer()"
   ]
  },
  {
   "cell_type": "markdown",
   "metadata": {},
   "source": [
    "### Exercise 2\n",
    "\n",
    "Can you write a loop to show several images?\n"
   ]
  },
  {
   "cell_type": "code",
   "execution_count": null,
   "metadata": {},
   "outputs": [],
   "source": [
    "# Write a loop that shows multiple images\n",
    "\n",
    "from IPython.display import display, Image\n",
    "import requests\n",
    "\n",
    "\n",
    "def printer():\n",
    "    pictures = []\n",
    "    while True:    \n",
    "        width = input(\"Enter the width of the image.\")\n",
    "        if width.lower() == \"done\":\n",
    "            for pic in pictures:\n",
    "                display(pic) \n",
    "            return\n",
    "\n",
    "        height = input(\"Enter the height of the image.\")\n",
    "        try:\n",
    "            int(width)\n",
    "            int(height)\n",
    "        except (SyntaxError, ValueError):\n",
    "            print(\"Please enter the number in digits.\")\n",
    "            continue\n",
    "        r = requests.get(f'http://www.placekitten.com/{width}/{height}')\n",
    "        r.status_code\n",
    "        if r.status_code != 200:\n",
    "            print(\"Error, file not found.\")\n",
    "        else:\n",
    "            pictures.append(Image(r.content))\n",
    "\n",
    "printer()"
   ]
  },
  {
   "cell_type": "markdown",
   "metadata": {},
   "source": [
    "# Example 2: Getting World Times\n",
    "\n",
    "This example introduces a slightly more complicated API. It also introduces **JSON** which is a very common data format.\n",
    "\n",
    "Our API is at http://worldtimeapi.org/"
   ]
  },
  {
   "cell_type": "code",
   "execution_count": 6,
   "metadata": {},
   "outputs": [
    {
     "output_type": "stream",
     "name": "stdout",
     "text": [
      "b'[\"Africa/Abidjan\",\"Africa/Accra\",\"Africa/Algiers\",\"Africa/Bissau\",\"Africa/Cairo\",\"Africa/Casablanca\",\"Africa/Ceuta\",\"Africa/El_Aaiun\",\"Africa/Johannesburg\",\"Africa/Juba\",\"Africa/Khartoum\",\"Africa/Lagos\",\"Africa/Maputo\",\"Africa/Monrovia\",\"Africa/Nairobi\",\"Africa/Ndjamena\",\"Africa/Sao_Tome\",\"Africa/Tripoli\",\"Africa/Tunis\",\"Africa/Windhoek\",\"America/Adak\",\"America/Anchorage\",\"America/Araguaina\",\"America/Argentina/Buenos_Aires\",\"America/Argentina/Catamarca\",\"America/Argentina/Cordoba\",\"America/Argentina/Jujuy\",\"America/Argentina/La_Rioja\",\"America/Argentina/Mendoza\",\"America/Argentina/Rio_Gallegos\",\"America/Argentina/Salta\",\"America/Argentina/San_Juan\",\"America/Argentina/San_Luis\",\"America/Argentina/Tucuman\",\"America/Argentina/Ushuaia\",\"America/Asuncion\",\"America/Atikokan\",\"America/Bahia\",\"America/Bahia_Banderas\",\"America/Barbados\",\"America/Belem\",\"America/Belize\",\"America/Blanc-Sablon\",\"America/Boa_Vista\",\"America/Bogota\",\"America/Boise\",\"America/Cambridge_Bay\",\"America/Campo_Grande\",\"America/Cancun\",\"America/Caracas\",\"America/Cayenne\",\"America/Chicago\",\"America/Chihuahua\",\"America/Costa_Rica\",\"America/Creston\",\"America/Cuiaba\",\"America/Curacao\",\"America/Danmarkshavn\",\"America/Dawson\",\"America/Dawson_Creek\",\"America/Denver\",\"America/Detroit\",\"America/Edmonton\",\"America/Eirunepe\",\"America/El_Salvador\",\"America/Fort_Nelson\",\"America/Fortaleza\",\"America/Glace_Bay\",\"America/Goose_Bay\",\"America/Grand_Turk\",\"America/Guatemala\",\"America/Guayaquil\",\"America/Guyana\",\"America/Halifax\",\"America/Havana\",\"America/Hermosillo\",\"America/Indiana/Indianapolis\",\"America/Indiana/Knox\",\"America/Indiana/Marengo\",\"America/Indiana/Petersburg\",\"America/Indiana/Tell_City\",\"America/Indiana/Vevay\",\"America/Indiana/Vincennes\",\"America/Indiana/Winamac\",\"America/Inuvik\",\"America/Iqaluit\",\"America/Jamaica\",\"America/Juneau\",\"America/Kentucky/Louisville\",\"America/Kentucky/Monticello\",\"America/La_Paz\",\"America/Lima\",\"America/Los_Angeles\",\"America/Maceio\",\"America/Managua\",\"America/Manaus\",\"America/Martinique\",\"America/Matamoros\",\"America/Mazatlan\",\"America/Menominee\",\"America/Merida\",\"America/Metlakatla\",\"America/Mexico_City\",\"America/Miquelon\",\"America/Moncton\",\"America/Monterrey\",\"America/Montevideo\",\"America/Nassau\",\"America/New_York\",\"America/Nipigon\",\"America/Nome\",\"America/Noronha\",\"America/North_Dakota/Beulah\",\"America/North_Dakota/Center\",\"America/North_Dakota/New_Salem\",\"America/Nuuk\",\"America/Ojinaga\",\"America/Panama\",\"America/Pangnirtung\",\"America/Paramaribo\",\"America/Phoenix\",\"America/Port-au-Prince\",\"America/Port_of_Spain\",\"America/Porto_Velho\",\"America/Puerto_Rico\",\"America/Punta_Arenas\",\"America/Rainy_River\",\"America/Rankin_Inlet\",\"America/Recife\",\"America/Regina\",\"America/Resolute\",\"America/Rio_Branco\",\"America/Santarem\",\"America/Santiago\",\"America/Santo_Domingo\",\"America/Sao_Paulo\",\"America/Scoresbysund\",\"America/Sitka\",\"America/St_Johns\",\"America/Swift_Current\",\"America/Tegucigalpa\",\"America/Thule\",\"America/Thunder_Bay\",\"America/Tijuana\",\"America/Toronto\",\"America/Vancouver\",\"America/Whitehorse\",\"America/Winnipeg\",\"America/Yakutat\",\"America/Yellowknife\",\"Antarctica/Casey\",\"Antarctica/Davis\",\"Antarctica/DumontDUrville\",\"Antarctica/Macquarie\",\"Antarctica/Mawson\",\"Antarctica/Palmer\",\"Antarctica/Rothera\",\"Antarctica/Syowa\",\"Antarctica/Troll\",\"Antarctica/Vostok\",\"Asia/Almaty\",\"Asia/Amman\",\"Asia/Anadyr\",\"Asia/Aqtau\",\"Asia/Aqtobe\",\"Asia/Ashgabat\",\"Asia/Atyrau\",\"Asia/Baghdad\",\"Asia/Baku\",\"Asia/Bangkok\",\"Asia/Barnaul\",\"Asia/Beirut\",\"Asia/Bishkek\",\"Asia/Brunei\",\"Asia/Chita\",\"Asia/Choibalsan\",\"Asia/Colombo\",\"Asia/Damascus\",\"Asia/Dhaka\",\"Asia/Dili\",\"Asia/Dubai\",\"Asia/Dushanbe\",\"Asia/Famagusta\",\"Asia/Gaza\",\"Asia/Hebron\",\"Asia/Ho_Chi_Minh\",\"Asia/Hong_Kong\",\"Asia/Hovd\",\"Asia/Irkutsk\",\"Asia/Jakarta\",\"Asia/Jayapura\",\"Asia/Jerusalem\",\"Asia/Kabul\",\"Asia/Kamchatka\",\"Asia/Karachi\",\"Asia/Kathmandu\",\"Asia/Khandyga\",\"Asia/Kolkata\",\"Asia/Krasnoyarsk\",\"Asia/Kuala_Lumpur\",\"Asia/Kuching\",\"Asia/Macau\",\"Asia/Magadan\",\"Asia/Makassar\",\"Asia/Manila\",\"Asia/Nicosia\",\"Asia/Novokuznetsk\",\"Asia/Novosibirsk\",\"Asia/Omsk\",\"Asia/Oral\",\"Asia/Pontianak\",\"Asia/Pyongyang\",\"Asia/Qatar\",\"Asia/Qostanay\",\"Asia/Qyzylorda\",\"Asia/Riyadh\",\"Asia/Sakhalin\",\"Asia/Samarkand\",\"Asia/Seoul\",\"Asia/Shanghai\",\"Asia/Singapore\",\"Asia/Srednekolymsk\",\"Asia/Taipei\",\"Asia/Tashkent\",\"Asia/Tbilisi\",\"Asia/Tehran\",\"Asia/Thimphu\",\"Asia/Tokyo\",\"Asia/Tomsk\",\"Asia/Ulaanbaatar\",\"Asia/Urumqi\",\"Asia/Ust-Nera\",\"Asia/Vladivostok\",\"Asia/Yakutsk\",\"Asia/Yangon\",\"Asia/Yekaterinburg\",\"Asia/Yerevan\",\"Atlantic/Azores\",\"Atlantic/Bermuda\",\"Atlantic/Canary\",\"Atlantic/Cape_Verde\",\"Atlantic/Faroe\",\"Atlantic/Madeira\",\"Atlantic/Reykjavik\",\"Atlantic/South_Georgia\",\"Atlantic/Stanley\",\"Australia/Adelaide\",\"Australia/Brisbane\",\"Australia/Broken_Hill\",\"Australia/Darwin\",\"Australia/Eucla\",\"Australia/Hobart\",\"Australia/Lindeman\",\"Australia/Lord_Howe\",\"Australia/Melbourne\",\"Australia/Perth\",\"Australia/Sydney\",\"CET\",\"CST6CDT\",\"EET\",\"EST\",\"EST5EDT\",\"Etc/GMT\",\"Etc/GMT+1\",\"Etc/GMT+10\",\"Etc/GMT+11\",\"Etc/GMT+12\",\"Etc/GMT+2\",\"Etc/GMT+3\",\"Etc/GMT+4\",\"Etc/GMT+5\",\"Etc/GMT+6\",\"Etc/GMT+7\",\"Etc/GMT+8\",\"Etc/GMT+9\",\"Etc/GMT-1\",\"Etc/GMT-10\",\"Etc/GMT-11\",\"Etc/GMT-12\",\"Etc/GMT-13\",\"Etc/GMT-14\",\"Etc/GMT-2\",\"Etc/GMT-3\",\"Etc/GMT-4\",\"Etc/GMT-5\",\"Etc/GMT-6\",\"Etc/GMT-7\",\"Etc/GMT-8\",\"Etc/GMT-9\",\"Etc/UTC\",\"Europe/Amsterdam\",\"Europe/Andorra\",\"Europe/Astrakhan\",\"Europe/Athens\",\"Europe/Belgrade\",\"Europe/Berlin\",\"Europe/Brussels\",\"Europe/Bucharest\",\"Europe/Budapest\",\"Europe/Chisinau\",\"Europe/Copenhagen\",\"Europe/Dublin\",\"Europe/Gibraltar\",\"Europe/Helsinki\",\"Europe/Istanbul\",\"Europe/Kaliningrad\",\"Europe/Kiev\",\"Europe/Kirov\",\"Europe/Lisbon\",\"Europe/London\",\"Europe/Luxembourg\",\"Europe/Madrid\",\"Europe/Malta\",\"Europe/Minsk\",\"Europe/Monaco\",\"Europe/Moscow\",\"Europe/Oslo\",\"Europe/Paris\",\"Europe/Prague\",\"Europe/Riga\",\"Europe/Rome\",\"Europe/Samara\",\"Europe/Saratov\",\"Europe/Simferopol\",\"Europe/Sofia\",\"Europe/Stockholm\",\"Europe/Tallinn\",\"Europe/Tirane\",\"Europe/Ulyanovsk\",\"Europe/Uzhgorod\",\"Europe/Vienna\",\"Europe/Vilnius\",\"Europe/Volgograd\",\"Europe/Warsaw\",\"Europe/Zaporozhye\",\"Europe/Zurich\",\"HST\",\"Indian/Chagos\",\"Indian/Christmas\",\"Indian/Cocos\",\"Indian/Kerguelen\",\"Indian/Mahe\",\"Indian/Maldives\",\"Indian/Mauritius\",\"Indian/Reunion\",\"MET\",\"MST\",\"MST7MDT\",\"PST8PDT\",\"Pacific/Apia\",\"Pacific/Auckland\",\"Pacific/Bougainville\",\"Pacific/Chatham\",\"Pacific/Chuuk\",\"Pacific/Easter\",\"Pacific/Efate\",\"Pacific/Enderbury\",\"Pacific/Fakaofo\",\"Pacific/Fiji\",\"Pacific/Funafuti\",\"Pacific/Galapagos\",\"Pacific/Gambier\",\"Pacific/Guadalcanal\",\"Pacific/Guam\",\"Pacific/Honolulu\",\"Pacific/Kiritimati\",\"Pacific/Kosrae\",\"Pacific/Kwajalein\",\"Pacific/Majuro\",\"Pacific/Marquesas\",\"Pacific/Nauru\",\"Pacific/Niue\",\"Pacific/Norfolk\",\"Pacific/Noumea\",\"Pacific/Pago_Pago\",\"Pacific/Palau\",\"Pacific/Pitcairn\",\"Pacific/Pohnpei\",\"Pacific/Port_Moresby\",\"Pacific/Rarotonga\",\"Pacific/Tahiti\",\"Pacific/Tarawa\",\"Pacific/Tongatapu\",\"Pacific/Wake\",\"Pacific/Wallis\",\"WET\"]'\n"
     ]
    }
   ],
   "source": [
    "# Download list of time zones\n",
    "r = requests.get(\"http://worldtimeapi.org/api/timezone\")\n",
    "print(r.content)"
   ]
  },
  {
   "cell_type": "markdown",
   "metadata": {},
   "source": [
    "### Exercise 3\n",
    "\n",
    "Use the .json() function to get the response converted to a dictionary or list"
   ]
  },
  {
   "cell_type": "code",
   "execution_count": 8,
   "metadata": {},
   "outputs": [
    {
     "output_type": "stream",
     "name": "stdout",
     "text": [
      "['Africa/Abidjan', 'Africa/Accra', 'Africa/Algiers', 'Africa/Bissau', 'Africa/Cairo', 'Africa/Casablanca', 'Africa/Ceuta', 'Africa/El_Aaiun', 'Africa/Johannesburg', 'Africa/Juba', 'Africa/Khartoum', 'Africa/Lagos', 'Africa/Maputo', 'Africa/Monrovia', 'Africa/Nairobi', 'Africa/Ndjamena', 'Africa/Sao_Tome', 'Africa/Tripoli', 'Africa/Tunis', 'Africa/Windhoek', 'America/Adak', 'America/Anchorage', 'America/Araguaina', 'America/Argentina/Buenos_Aires', 'America/Argentina/Catamarca', 'America/Argentina/Cordoba', 'America/Argentina/Jujuy', 'America/Argentina/La_Rioja', 'America/Argentina/Mendoza', 'America/Argentina/Rio_Gallegos', 'America/Argentina/Salta', 'America/Argentina/San_Juan', 'America/Argentina/San_Luis', 'America/Argentina/Tucuman', 'America/Argentina/Ushuaia', 'America/Asuncion', 'America/Atikokan', 'America/Bahia', 'America/Bahia_Banderas', 'America/Barbados', 'America/Belem', 'America/Belize', 'America/Blanc-Sablon', 'America/Boa_Vista', 'America/Bogota', 'America/Boise', 'America/Cambridge_Bay', 'America/Campo_Grande', 'America/Cancun', 'America/Caracas', 'America/Cayenne', 'America/Chicago', 'America/Chihuahua', 'America/Costa_Rica', 'America/Creston', 'America/Cuiaba', 'America/Curacao', 'America/Danmarkshavn', 'America/Dawson', 'America/Dawson_Creek', 'America/Denver', 'America/Detroit', 'America/Edmonton', 'America/Eirunepe', 'America/El_Salvador', 'America/Fort_Nelson', 'America/Fortaleza', 'America/Glace_Bay', 'America/Goose_Bay', 'America/Grand_Turk', 'America/Guatemala', 'America/Guayaquil', 'America/Guyana', 'America/Halifax', 'America/Havana', 'America/Hermosillo', 'America/Indiana/Indianapolis', 'America/Indiana/Knox', 'America/Indiana/Marengo', 'America/Indiana/Petersburg', 'America/Indiana/Tell_City', 'America/Indiana/Vevay', 'America/Indiana/Vincennes', 'America/Indiana/Winamac', 'America/Inuvik', 'America/Iqaluit', 'America/Jamaica', 'America/Juneau', 'America/Kentucky/Louisville', 'America/Kentucky/Monticello', 'America/La_Paz', 'America/Lima', 'America/Los_Angeles', 'America/Maceio', 'America/Managua', 'America/Manaus', 'America/Martinique', 'America/Matamoros', 'America/Mazatlan', 'America/Menominee', 'America/Merida', 'America/Metlakatla', 'America/Mexico_City', 'America/Miquelon', 'America/Moncton', 'America/Monterrey', 'America/Montevideo', 'America/Nassau', 'America/New_York', 'America/Nipigon', 'America/Nome', 'America/Noronha', 'America/North_Dakota/Beulah', 'America/North_Dakota/Center', 'America/North_Dakota/New_Salem', 'America/Nuuk', 'America/Ojinaga', 'America/Panama', 'America/Pangnirtung', 'America/Paramaribo', 'America/Phoenix', 'America/Port-au-Prince', 'America/Port_of_Spain', 'America/Porto_Velho', 'America/Puerto_Rico', 'America/Punta_Arenas', 'America/Rainy_River', 'America/Rankin_Inlet', 'America/Recife', 'America/Regina', 'America/Resolute', 'America/Rio_Branco', 'America/Santarem', 'America/Santiago', 'America/Santo_Domingo', 'America/Sao_Paulo', 'America/Scoresbysund', 'America/Sitka', 'America/St_Johns', 'America/Swift_Current', 'America/Tegucigalpa', 'America/Thule', 'America/Thunder_Bay', 'America/Tijuana', 'America/Toronto', 'America/Vancouver', 'America/Whitehorse', 'America/Winnipeg', 'America/Yakutat', 'America/Yellowknife', 'Antarctica/Casey', 'Antarctica/Davis', 'Antarctica/DumontDUrville', 'Antarctica/Macquarie', 'Antarctica/Mawson', 'Antarctica/Palmer', 'Antarctica/Rothera', 'Antarctica/Syowa', 'Antarctica/Troll', 'Antarctica/Vostok', 'Asia/Almaty', 'Asia/Amman', 'Asia/Anadyr', 'Asia/Aqtau', 'Asia/Aqtobe', 'Asia/Ashgabat', 'Asia/Atyrau', 'Asia/Baghdad', 'Asia/Baku', 'Asia/Bangkok', 'Asia/Barnaul', 'Asia/Beirut', 'Asia/Bishkek', 'Asia/Brunei', 'Asia/Chita', 'Asia/Choibalsan', 'Asia/Colombo', 'Asia/Damascus', 'Asia/Dhaka', 'Asia/Dili', 'Asia/Dubai', 'Asia/Dushanbe', 'Asia/Famagusta', 'Asia/Gaza', 'Asia/Hebron', 'Asia/Ho_Chi_Minh', 'Asia/Hong_Kong', 'Asia/Hovd', 'Asia/Irkutsk', 'Asia/Jakarta', 'Asia/Jayapura', 'Asia/Jerusalem', 'Asia/Kabul', 'Asia/Kamchatka', 'Asia/Karachi', 'Asia/Kathmandu', 'Asia/Khandyga', 'Asia/Kolkata', 'Asia/Krasnoyarsk', 'Asia/Kuala_Lumpur', 'Asia/Kuching', 'Asia/Macau', 'Asia/Magadan', 'Asia/Makassar', 'Asia/Manila', 'Asia/Nicosia', 'Asia/Novokuznetsk', 'Asia/Novosibirsk', 'Asia/Omsk', 'Asia/Oral', 'Asia/Pontianak', 'Asia/Pyongyang', 'Asia/Qatar', 'Asia/Qostanay', 'Asia/Qyzylorda', 'Asia/Riyadh', 'Asia/Sakhalin', 'Asia/Samarkand', 'Asia/Seoul', 'Asia/Shanghai', 'Asia/Singapore', 'Asia/Srednekolymsk', 'Asia/Taipei', 'Asia/Tashkent', 'Asia/Tbilisi', 'Asia/Tehran', 'Asia/Thimphu', 'Asia/Tokyo', 'Asia/Tomsk', 'Asia/Ulaanbaatar', 'Asia/Urumqi', 'Asia/Ust-Nera', 'Asia/Vladivostok', 'Asia/Yakutsk', 'Asia/Yangon', 'Asia/Yekaterinburg', 'Asia/Yerevan', 'Atlantic/Azores', 'Atlantic/Bermuda', 'Atlantic/Canary', 'Atlantic/Cape_Verde', 'Atlantic/Faroe', 'Atlantic/Madeira', 'Atlantic/Reykjavik', 'Atlantic/South_Georgia', 'Atlantic/Stanley', 'Australia/Adelaide', 'Australia/Brisbane', 'Australia/Broken_Hill', 'Australia/Darwin', 'Australia/Eucla', 'Australia/Hobart', 'Australia/Lindeman', 'Australia/Lord_Howe', 'Australia/Melbourne', 'Australia/Perth', 'Australia/Sydney', 'CET', 'CST6CDT', 'EET', 'EST', 'EST5EDT', 'Etc/GMT', 'Etc/GMT+1', 'Etc/GMT+10', 'Etc/GMT+11', 'Etc/GMT+12', 'Etc/GMT+2', 'Etc/GMT+3', 'Etc/GMT+4', 'Etc/GMT+5', 'Etc/GMT+6', 'Etc/GMT+7', 'Etc/GMT+8', 'Etc/GMT+9', 'Etc/GMT-1', 'Etc/GMT-10', 'Etc/GMT-11', 'Etc/GMT-12', 'Etc/GMT-13', 'Etc/GMT-14', 'Etc/GMT-2', 'Etc/GMT-3', 'Etc/GMT-4', 'Etc/GMT-5', 'Etc/GMT-6', 'Etc/GMT-7', 'Etc/GMT-8', 'Etc/GMT-9', 'Etc/UTC', 'Europe/Amsterdam', 'Europe/Andorra', 'Europe/Astrakhan', 'Europe/Athens', 'Europe/Belgrade', 'Europe/Berlin', 'Europe/Brussels', 'Europe/Bucharest', 'Europe/Budapest', 'Europe/Chisinau', 'Europe/Copenhagen', 'Europe/Dublin', 'Europe/Gibraltar', 'Europe/Helsinki', 'Europe/Istanbul', 'Europe/Kaliningrad', 'Europe/Kiev', 'Europe/Kirov', 'Europe/Lisbon', 'Europe/London', 'Europe/Luxembourg', 'Europe/Madrid', 'Europe/Malta', 'Europe/Minsk', 'Europe/Monaco', 'Europe/Moscow', 'Europe/Oslo', 'Europe/Paris', 'Europe/Prague', 'Europe/Riga', 'Europe/Rome', 'Europe/Samara', 'Europe/Saratov', 'Europe/Simferopol', 'Europe/Sofia', 'Europe/Stockholm', 'Europe/Tallinn', 'Europe/Tirane', 'Europe/Ulyanovsk', 'Europe/Uzhgorod', 'Europe/Vienna', 'Europe/Vilnius', 'Europe/Volgograd', 'Europe/Warsaw', 'Europe/Zaporozhye', 'Europe/Zurich', 'HST', 'Indian/Chagos', 'Indian/Christmas', 'Indian/Cocos', 'Indian/Kerguelen', 'Indian/Mahe', 'Indian/Maldives', 'Indian/Mauritius', 'Indian/Reunion', 'MET', 'MST', 'MST7MDT', 'PST8PDT', 'Pacific/Apia', 'Pacific/Auckland', 'Pacific/Bougainville', 'Pacific/Chatham', 'Pacific/Chuuk', 'Pacific/Easter', 'Pacific/Efate', 'Pacific/Enderbury', 'Pacific/Fakaofo', 'Pacific/Fiji', 'Pacific/Funafuti', 'Pacific/Galapagos', 'Pacific/Gambier', 'Pacific/Guadalcanal', 'Pacific/Guam', 'Pacific/Honolulu', 'Pacific/Kiritimati', 'Pacific/Kosrae', 'Pacific/Kwajalein', 'Pacific/Majuro', 'Pacific/Marquesas', 'Pacific/Nauru', 'Pacific/Niue', 'Pacific/Norfolk', 'Pacific/Noumea', 'Pacific/Pago_Pago', 'Pacific/Palau', 'Pacific/Pitcairn', 'Pacific/Pohnpei', 'Pacific/Port_Moresby', 'Pacific/Rarotonga', 'Pacific/Tahiti', 'Pacific/Tarawa', 'Pacific/Tongatapu', 'Pacific/Wake', 'Pacific/Wallis', 'WET']\n"
     ]
    }
   ],
   "source": [
    "# Use the .json() function to get the response converted to a dictionary or list\n",
    "# What did it return?\n",
    "time_list = r.json()\n",
    "\n",
    "type(time_list)\n",
    "print(time_list)"
   ]
  },
  {
   "cell_type": "markdown",
   "metadata": {},
   "source": [
    "### Exercise 4\n",
    "\n",
    "Get the time for your time zone"
   ]
  },
  {
   "cell_type": "code",
   "execution_count": 9,
   "metadata": {},
   "outputs": [
    {
     "output_type": "stream",
     "name": "stdout",
     "text": [
      "b'{\"abbreviation\":\"EDT\",\"client_ip\":\"73.103.130.188\",\"datetime\":\"2021-05-26T13:46:14.824833-04:00\",\"day_of_week\":3,\"day_of_year\":146,\"dst\":true,\"dst_from\":\"2021-03-14T07:00:00+00:00\",\"dst_offset\":3600,\"dst_until\":\"2021-11-07T06:00:00+00:00\",\"raw_offset\":-18000,\"timezone\":\"America/New_York\",\"unixtime\":1622051174,\"utc_datetime\":\"2021-05-26T17:46:14.824833+00:00\",\"utc_offset\":\"-04:00\",\"week_number\":21}'\n"
     ]
    }
   ],
   "source": [
    "# Your code here\n",
    "\n",
    "time_zone = requests.get(\"http://worldtimeapi.org/api/timezone/America/New_York\")\n",
    "print(time_zone.content)"
   ]
  },
  {
   "cell_type": "markdown",
   "metadata": {},
   "source": [
    "### Exercise 5\n",
    "\n",
    "Get the time for your IP address"
   ]
  },
  {
   "cell_type": "code",
   "execution_count": 16,
   "metadata": {},
   "outputs": [
    {
     "output_type": "stream",
     "name": "stdout",
     "text": [
      "2021-05-26T18:08:15.719740+00:00\n"
     ]
    }
   ],
   "source": [
    "# Get the time for your IP address\n",
    "time_ip = requests.get(\"http://worldtimeapi.org/api/ip/\")\n",
    "if time_ip.status_code == 200:\n",
    "    time_dict = time_ip.json()\n",
    "else: \n",
    "    pass \n",
    "\n",
    "print(time_dict[\"utc_datetime\"])\n",
    "\n",
    "# then find the key that holds the time and call that key toget the value time."
   ]
  },
  {
   "cell_type": "markdown",
   "metadata": {},
   "source": [
    "# Example 3: Getting Wikipedia pages\n",
    "\n",
    "Wikipedia also has an open API, and I want to use it to show one other tip for using the `requests` library; many APIs will take in a set of parameters, which you can pass as a parameter dictionary.\n",
    "\n",
    "The documentation for the very extensive API is [here](https://www.mediawiki.org/wiki/API:Main_page). Many of the operations require you to authenticate (which we will cover next), but some things, like getting the content of a page, do not.\n",
    "\n",
    "For example, the following code gets the recent changes to Wikipedia."
   ]
  },
  {
   "cell_type": "code",
   "execution_count": 18,
   "metadata": {},
   "outputs": [],
   "source": [
    "import requests\n",
    "\n",
    "endpt = 'https://en.wikipedia.org/w/api.php' # endpt is the base url that we add to with out fuction \n",
    "\n",
    "\n",
    "def get_last_pages_changed(n): # parapaters from the wiki api shown in a dictionary. Again, {key: value}. \n",
    "    params = {'action': 'query',\n",
    "          'format': 'json',\n",
    "          'list': 'recentchanges',\n",
    "          'rcnamespace': '0',\n",
    "          'rclimit': n}\n",
    "    r = requests.get(endpt, params=params) # params 1 is the function in the wiki and params 2 is the variable from above\n",
    "    #print(r.json()['query']['recentchanges'])\n",
    "    result = []\n",
    "    content = r.json()['query']['recentchanges'] #query is what we're actually looking for\n",
    "    for page in content:\n",
    "        result.append(page['title'])\n",
    "    return result\n"
   ]
  },
  {
   "cell_type": "code",
   "execution_count": 22,
   "metadata": {},
   "outputs": [
    {
     "output_type": "stream",
     "name": "stdout",
     "text": [
      "The most recent editors of the page ['Donhead St Mary'] are ['EmausBot', 'Wire723', 'Ser Amantio di Nicolao', 'SmackBot', 'Yobot', 'Addbot', 'Chris j wood', 'Chris the speller', 'Johnsoniensis', 'KJP1'].\n"
     ]
    }
   ],
   "source": [
    "page = get_last_pages_changed(1)\n",
    "\n",
    "def get_editors():\n",
    "    parm ={'action':'query',\n",
    "    'format':'json',\n",
    "    'prop':'contributors',\n",
    "    'titles':page[0]} # page links back to the defined most recently edited page as above.\n",
    "\n",
    "    r = requests.get(endpt,parm)\n",
    "    all_content = r.json()['query']['pages']\n",
    "    page_id = list(all_content.keys())[0]\n",
    "    contr = all_content[page_id][\"contributors\"] # narrowed to just the contributor list with user ids and names\n",
    "\n",
    "    #print(contr)\n",
    "    editors = []\n",
    "    for item in contr: # get each dictionary pair out of the list, then need to grab the value of the key name from the dictionaries\n",
    "        editors.append(item[\"name\"])\n",
    "    #print(editors)\n",
    "\n",
    "    return print(f\"The most recent editors of the page {page} are {editors[:]}.\") #is there a way to remove the [] from the printout? \n",
    "get_editors() \n"
   ]
  },
  {
   "cell_type": "markdown",
   "metadata": {},
   "source": [
    "## Exercise 6\n",
    "\n",
    "Review the documentation (and Google) to see if you can figure out how to get a list of all of the people who have ever edited the most recently edited Wikipedia page."
   ]
  },
  {
   "cell_type": "markdown",
   "metadata": {},
   "source": [
    "# Example 4: Intro to Twitter API\n",
    "\n",
    "In order to use the Twitter API, you need to do two things:\n",
    "\n",
    "1. Install tweepy. This is a python library designed to make it easier to use the API (rather than using `requests` directly. I made [this video](https://www.youtube.com/watch?v=TASX3evcgG4) to walk you through how to install tweepy in Anaconda.\n",
    "\n",
    "2. To use the Twitter API, you need to be authenticated, and so you need a developer account. [This page](https://wiki.communitydata.science/Intro_to_Programming_and_Data_Science_(Summer_2020)/Twitter_authentication_setup) explains how to get a developer account.\n",
    "\n",
    "Once you have your keys, you should create a file called `twitter_authentication.py` in the same directory as this file. It should contain the following four lines (replace the fake strings below with the corresponding keys from your twitter account):\n",
    "\n",
    "```\n",
    "CONSUMER_KEY = 'zFxMGdKmbo4e72X8Fi2FYr54v'\n",
    "CONSUMER_SECRET = 'SetuIC9x6zPQXPZrc9cKTph7AMSngUZSf745GXT0QZTrnWeELQ'\n",
    "ACCESS_TOKEN = '16614440-V09URsqNfP0V0JYZCD65NhpJAcPZ6Wb9A5ar9JrUT'\n",
    "ACCESS_TOKEN_SECRET = 'oxVSzC1OjXOVVYrBvGyy6XKKe772Jdvvw6Opb3bSLdIb'\n",
    "```\n",
    "\n",
    "In general, it is a good practice to keep your keys (which should be secret) separate from your code, which you can share. In this case, we put them in a different file and then import them."
   ]
  },
  {
   "cell_type": "markdown",
   "metadata": {},
   "source": [
    "The following code loads the tweepy library and imports these keys from the `twitter_authentication.py` file, and then prepares to \"log in\" to your account for the Twitter API."
   ]
  },
  {
   "cell_type": "code",
   "execution_count": 23,
   "metadata": {},
   "outputs": [],
   "source": [
    "import tweepy\n",
    "\n",
    "from twitter_authentication import CONSUMER_KEY, CONSUMER_SECRET, ACCESS_TOKEN, ACCESS_TOKEN_SECRET\n",
    "\n",
    "auth = tweepy.OAuthHandler(CONSUMER_KEY, CONSUMER_SECRET)\n",
    "auth.set_access_token(ACCESS_TOKEN, ACCESS_TOKEN_SECRET)\n",
    "\n",
    "# We then create an api object, based on the auth object created with your credentials\n",
    "api = tweepy.API(auth, wait_on_rate_limit=True)"
   ]
  },
  {
   "cell_type": "markdown",
   "metadata": {},
   "source": [
    "## Rate Limiting\n",
    "\n",
    "You will quickly learn that the Twitter API is \"rate limited\". This means that they will only let each account make a certain number of calls to their API in a given time period. The default rate is quite low - many calls only allow 15 calls per 15 minutes.\n",
    "\n",
    "You may notice above that we had the code:\n",
    "```\n",
    "api = tweepy.API(auth, wait_on_rate_limit=True)\n",
    "```\n",
    "the `wait_on_rate_limit=True` tells your code to wait for 15 minutes if it gets back a message that you've exceeded a rate limit. This can get annoying when debugging, so be careful with how often you try things - sometimes it makes sense, for example, to try to get a small amount of data that only takes on call and make sure that your code works before trying to get all of the data."
   ]
  },
  {
   "cell_type": "markdown",
   "metadata": {},
   "source": [
    "## Timeline\n",
    "\n",
    "This first example is just to make sure it's working. It should print out the last 100 tweets from your timeline."
   ]
  },
  {
   "cell_type": "code",
   "execution_count": null,
   "metadata": {},
   "outputs": [],
   "source": [
    "# Grab the last 100 tweets\n",
    "public_tweets = api.home_timeline(count=100) # 200 is max number to go here for tweepy\n",
    "\n",
    "# And print the text from them\n",
    "for tweet in public_tweets: #becuase you didn't createa a list, then \"tweet\" is just the final tweet that was pulled.\n",
    "    print(tweet.text)\n"
   ]
  },
  {
   "cell_type": "markdown",
   "metadata": {},
   "source": [
    "Each of these `tweet` objects contains lots of additional information. This shows all of the metadata available for the last one we looked at."
   ]
  },
  {
   "cell_type": "code",
   "execution_count": null,
   "metadata": {},
   "outputs": [],
   "source": [
    "tweet._json"
   ]
  },
  {
   "cell_type": "markdown",
   "metadata": {},
   "source": [
    "You can try to change the `count` argument above, and you'll quickly learn that if you raise it over 200, you will still only get 200 tweets. If you want to print more than 200 tweets, you may need to use a [cursor](http://docs.tweepy.org/en/v3.5.0/cursor_tutorial.html).\n",
    "\n",
    "This is basically tweepy's clever way of breaking what you want to do into multiple calls to the API.\n",
    "\n",
    "For example, this call will get 350 tweets. The `count` argument (optional) says how many tweets to get per call, and the argument in `.items()` is how many to get in total."
   ]
  },
  {
   "cell_type": "code",
   "execution_count": null,
   "metadata": {},
   "outputs": [],
   "source": [
    "for tweet in tweepy.Cursor(api.home_timeline, count = 175).items(350): #tweepy.Cursor lets you use more than 200 total. First call will get you 175, then it will run again until it until you get to the item number.\n",
    "    print(tweet.text)"
   ]
  },
  {
   "cell_type": "markdown",
   "metadata": {},
   "source": [
    "## Followers\n",
    "\n",
    "You can also get information about a user, such as who their followers are.\n",
    "\n",
    "Here's information about me and some of my followers."
   ]
  },
  {
   "cell_type": "code",
   "execution_count": null,
   "metadata": {},
   "outputs": [],
   "source": [
    "user = api.get_user('jdfoote')\n",
    "\n",
    "print(user.screen_name + \" has \" + str(user.followers_count) + \" followers.\")\n",
    "\n",
    "print(\"They include these 100 people:\")\n",
    "\n",
    "for follower in user.followers(count=100):\n",
    "    print(follower.screen_name)"
   ]
  },
  {
   "cell_type": "markdown",
   "metadata": {},
   "source": [
    "Here is what that user object looks like for my user"
   ]
  },
  {
   "cell_type": "code",
   "execution_count": null,
   "metadata": {},
   "outputs": [],
   "source": [
    "user._json"
   ]
  },
  {
   "cell_type": "markdown",
   "metadata": {},
   "source": [
    "And here's the user object for one of my followers, which is nearly identical."
   ]
  },
  {
   "cell_type": "code",
   "execution_count": null,
   "metadata": {},
   "outputs": [],
   "source": [
    "follower._json"
   ]
  },
  {
   "cell_type": "markdown",
   "metadata": {},
   "source": [
    "Note that 200 is the maximum number of followers that you can get at one time. If you want to get information about all of a user's followers, you will need to use a cursor. If you are getting many followers, you will almost certainly hit rate limits."
   ]
  },
  {
   "cell_type": "code",
   "execution_count": null,
   "metadata": {},
   "outputs": [],
   "source": [
    "f = []\n",
    "for follower in tweepy.Cursor(api.followers, screen_name='jdfoote', count=200).items():\n",
    "    #print(follower.screen_name)\n",
    "    f.append(follower.screen_name)"
   ]
  },
  {
   "cell_type": "code",
   "execution_count": null,
   "metadata": {},
   "outputs": [],
   "source": [
    "print(f)"
   ]
  },
  {
   "cell_type": "markdown",
   "metadata": {},
   "source": [
    "## Searching\n",
    "\n",
    "For most of your research, you may be interested in how people are talking about a given topic. There are two main ways to do this.\n",
    "\n",
    "The first is the search API ([Official Twitter info on the Search API](https://developer.twitter.com/en/docs/tweets/search/overview)). We only have access to \"[Standard Search](https://developer.twitter.com/en/docs/tweets/search/overview/standard)\", the most limited of Twitter Search API options, which is limited to the last 7 days.\n",
    "\n",
    "\n",
    "[This page](https://developer.twitter.com/en/docs/tweets/search/api-reference/get-search-tweets) is the documentation for Standard Search and has some helpful intel about modifying the parameters.\n",
    "\n",
    "Below is a simple example that gets the last 20 tweets about data science."
   ]
  },
  {
   "cell_type": "code",
   "execution_count": null,
   "metadata": {},
   "outputs": [],
   "source": [
    "public_tweets = api.search('\"data science\"', count=20)\n",
    "\n",
    "for tweet in public_tweets:\n",
    "    print(tweet.user.screen_name + \"\\t\" + str(tweet.created_at) + \"\\t\" + tweet.text)"
   ]
  },
  {
   "cell_type": "markdown",
   "metadata": {},
   "source": [
    "Note that many of these results are truncated. If you want the full tweet, you actually have to modify the call a little bit, like so."
   ]
  },
  {
   "cell_type": "code",
   "execution_count": null,
   "metadata": {},
   "outputs": [],
   "source": [
    "public_tweets = api.search('\"data science\"', count=20, tweet_mode='extended') #twitter doens't automatically return the whole tweet, so you have to add the extended mode option at the end. But... if something is a retweet, it'll still be trunckated. \n",
    "\n",
    "for tweet in public_tweets:\n",
    "    print(tweet.user.screen_name + \"\\t\" + str(tweet.created_at) + \"\\t\" + tweet.full_text)\n",
    "\n",
    "    # you may need to find a way to eliminate retweets\n",
    "    # maybe if tweet.retweet = exists... \n",
    "\n"
   ]
  },
  {
   "cell_type": "markdown",
   "metadata": {},
   "source": [
    "### Additional Search resources\n",
    "\n",
    "* [Tweepy extended tweets documentation](http://docs.tweepy.org/en/latest/extended_tweets.html)\n",
    "* [Twitter documentation for crafting queries](https://developer.twitter.com/en/docs/tweets/search/guides/standard-operators). This includes things like how to search by geography or remove retweets."
   ]
  },
  {
   "cell_type": "markdown",
   "metadata": {},
   "source": [
    "## Streaming\n",
    "\n",
    "The other option is to \"stream\" tweets. Instead of looking backward, this just keeps you connected to Twitter and whenever new tweets come in, they are sent to your program. You would typicaly just keep the program running and keep writing the data that you want to an external file.\n",
    "\n",
    "As with the search API, there are some caveats. One is that (I believe) there is no guarantee that this is all of the tweets that match. If you try to filter by very popular terms, then Twitter may give you only a sample of them."
   ]
  },
  {
   "cell_type": "code",
   "execution_count": null,
   "metadata": {},
   "outputs": [],
   "source": [
    "class StreamListener(tweepy.StreamListener):\n",
    "    def on_status(self, tweet):\n",
    "        print(tweet.author.screen_name + \"\\t\" + tweet.text)\n",
    "\n",
    "    def on_error(self, status_code):\n",
    "        print( 'Error: ' + repr(status_code))\n",
    "        return False\n",
    "\n",
    "l = StreamListener()\n",
    "streamer = tweepy.Stream(auth=auth, listener=l, tweet_mode='extended')\n",
    "\n",
    "keywords = ['Purdue', '\"data science\"']\n",
    "streamer.filter(track = keywords)"
   ]
  },
  {
   "cell_type": "markdown",
   "metadata": {},
   "source": [
    "# Exercises\n",
    "\n",
    "\n",
    "7. Use the streaming API to produce a list of 1000 tweets about a topic.\n",
    "2. From that list of 1000 tweets, eliminate retweets.\n",
    "4. For each original tweet, create a dictionary with the number of times you see it retweeted in your dataset.\n",
    "5. Get a list of the URLs in your dataset\n",
    "3. Now, see if you can figure out how to eliminate retweets in the query instead.\n",
    "7. Get the last 50 tweets from West Lafayette, using the search API. (Hint - look up the geocode information [here](https://developer.twitter.com/en/docs/tweets/search/api-reference/get-search-tweets)).\n",
    "8. Alter the streaming algorithm to include a \"locations\" filter to get tweets from New York City. You need to use the order sw_lng, sw_lat, ne_lng, ne_lat for the four coordinates instead of a radius as in the search API.\n",
    "\n",
    "### BONUS Questions\n",
    "1. For each of your followers, get *their* followers (investigate time.sleep to throttle your computation)\n",
    "2. Identify the follower you have that also follows the most of your followers.\n",
    "3. How many users follow you but none of your followers?"
   ]
  },
  {
   "cell_type": "code",
   "execution_count": null,
   "metadata": {},
   "outputs": [],
   "source": [
    "# all the stuff to import for Twitter API\n",
    "\n",
    "import tweepy\n",
    "\n",
    "from twitter_authentication import CONSUMER_KEY, CONSUMER_SECRET, ACCESS_TOKEN, ACCESS_TOKEN_SECRET\n",
    "\n",
    "auth = tweepy.OAuthHandler(CONSUMER_KEY, CONSUMER_SECRET)\n",
    "auth.set_access_token(ACCESS_TOKEN, ACCESS_TOKEN_SECRET)\n",
    "\n",
    "# We then create an api object, based on the auth object created with your credentials\n",
    "api = tweepy.API(auth, wait_on_rate_limit=True)"
   ]
  },
  {
   "cell_type": "code",
   "execution_count": null,
   "metadata": {},
   "outputs": [],
   "source": [
    "\r\n",
    "# search for tweets posted to my timeline\r\n",
    "for tweet in tweepy.Cursor(api.home_timeline, count = 175).items(1000): \r\n",
    "    print(tweet.text)\r\n",
    "\r\n",
    "# search for tweets on a specific topic\r\n",
    "public_tweets = api.search('\"data science\"', count=200, tweet_mode='extended') \r\n",
    "\r\n",
    "for tweet in public_tweets:\r\n",
    "    print(tweet.user.screen_name + \"\\t\" + str(tweet.created_at) + \"\\t\" + tweet.full_text)"
   ]
  },
  {
   "cell_type": "code",
   "execution_count": null,
   "metadata": {},
   "outputs": [],
   "source": [
    "# 7. Use the streaming API to produce a list of 1000 tweets about a topic. # so... it woundn't let me use the curser option, so I added the list instead.\r\n",
    "def get_tweets():\r\n",
    "    covid_tweets = []\r\n",
    "    max_id = 10000000000000\r\n",
    "\r\n",
    "    while len(covid_tweets) < 10:\r\n",
    "        print(len(covid_tweets))\r\n",
    "        public_tweets = api.search('\"covid\"', count=2, tweet_mode='extended', max_id = max_id) #max_id says start at this tweet\r\n",
    "\r\n",
    "        for tweet in public_tweets:\r\n",
    "            if tweet.id < max_id:\r\n",
    "                max_id=tweet.id\r\n",
    "            #if tweet not in covid_tweets:\r\n",
    "                covid_tweets.append(tweet.user.screen_name + \"\\t\" + str(tweet.created_at) + \"\\t\" + tweet.full_text)\r\n",
    "              #  continue \r\n",
    "\r\n",
    "    \r\n",
    "    return covid_tweets[:]\r\n",
    "\r\n",
    "get_tweets()\r\n",
    "\r\n",
    "## abunch of stuff that didn't really work at all... \r\n"
   ]
  },
  {
   "cell_type": "code",
   "execution_count": null,
   "metadata": {},
   "outputs": [],
   "source": [
    "## Yong's code\n",
    "\n",
    "class StreamListener(tweepy.StreamListener):\n",
    "    counter = 0\n",
    "    num_tweets = 5\n",
    "    def on_status(self, tweet):\n",
    "        print(tweet.author.screen_name + \"\\t\" + tweet.text)\n",
    "        self.counter += 1\n",
    "        if self.counter == self.num_tweets:\n",
    "            return False\n",
    "\n",
    "        return True\n",
    "\n",
    "    def on_error(self, status_code):\n",
    "        print( 'Error: ' + repr(status_code))\n",
    "        return False\n",
    "\n",
    "l = StreamListener()\n",
    "streamer = tweepy.Stream(auth=auth, listener=l, tweet_mode='extended')\n",
    "\n",
    "keywords = ['happy']\n",
    "streamer.filter(track = keywords)"
   ]
  },
  {
   "cell_type": "code",
   "execution_count": null,
   "metadata": {
    "tags": []
   },
   "outputs": [],
   "source": [
    "# so api.search had to move to the inside! finally! + 7 is done.  \n",
    "\n",
    "public_tweets = tweepy.Cursor(api.search, '\"covid\"', count=200, tweet_mode='extended').items(1000)\n",
    "\n",
    "squid_list = []\n",
    "\n",
    "for tweet in public_tweets:\n",
    "    squid_list.append(tweet)\n",
    "\n",
    "\n",
    "\n",
    "\n",
    "\n",
    "\n",
    "len(squid_list)"
   ]
  },
  {
   "cell_type": "code",
   "execution_count": null,
   "metadata": {},
   "outputs": [],
   "source": [
    "# 8. From that list of 1000 tweets, eliminate retweets.\n",
    "# no evidence that this works... \n",
    "\n",
    "\n",
    "public_tweets_eliminated = tweepy.Cursor(api.search, '\"covid\"', count=200, tweet_mode='extended').items(1000)\n",
    "\n",
    "squid_list = []\n",
    "for tweet in public_tweets_eliminated:\n",
    "    if (not tweet.retweeted) and (\"RT @\" not in tweet.full_text):\n",
    "        squid_list.append(tweet)\n",
    "\n",
    "len(squid_list)\n",
    "\n",
    "\n",
    "    \n",
    "    #print(tweet.user.screen_name + \"\\t\" + str(tweet.created_at) + \"\\t\" + tweet.full_text)\n"
   ]
  },
  {
   "cell_type": "code",
   "execution_count": null,
   "metadata": {},
   "outputs": [],
   "source": [
    "public_tweets = api.search(\"#academictwitter\", count=1000,  tweet_mode ='extended_tweet')\n",
    "for tweet in public_tweets:\n",
    "    #remove retweets\n",
    "    if (not tweet.retweeted) and ('RT @' not in tweet.text):\n",
    "        print(tweet.user.screen_name + \"\\t\" + str(tweet.created_at) + \"\\t\" + tweet.text)"
   ]
  },
  {
   "cell_type": "code",
   "execution_count": null,
   "metadata": {},
   "outputs": [],
   "source": [
    "# 9. For each original tweet, create a dictionary with the number of times you see it retweeted in your dataset.\n",
    "\n",
    "#this should work, but everthig is just * on me....\n",
    "public_tweets = tweepy.Cursor(api.search, '\"covid\"', count=200, tweet_mode='extended').items(1000)\n",
    "\n",
    "tweet_dict = {}\n",
    "for tweet in public_tweets:\n",
    "    if tweet_dict[tweet.id] == None:\n",
    "        tweet_dict[tweet] = 1\n",
    "    else:\n",
    "        tweet_dict[tweet] += 1\n",
    "    \n",
    "tweet_dict"
   ]
  },
  {
   "cell_type": "code",
   "execution_count": 23,
   "metadata": {},
   "outputs": [
    {
     "output_type": "execute_result",
     "data": {
      "text/plain": [
       "False"
      ]
     },
     "metadata": {},
     "execution_count": 23
    }
   ],
   "source": [
    "# 10. Get a list of the URLs in your dataset\n",
    "squid_list[0]._json['retweeted']\n"
   ]
  },
  {
   "cell_type": "code",
   "execution_count": null,
   "metadata": {},
   "outputs": [],
   "source": [
    "# 11. Now, see if you can figure out how to eliminate retweets in the query instead.\n",
    "\n",
    "\n",
    "# need an actual test to see if something is a retweet, becuase I cna't be sure that this is working... \n",
    "public_tweets_prevented = tweepy.Cursor(api.search, '\"covid\" -filter:retweets', count=200, exclude_replies=True, tweet_mode='extended').items(1000)\n",
    "\n",
    "curated_list = []\n",
    "for tweet in public_tweets_prevented:\n",
    "    squid_list.append(tweet)\n",
    "\n",
    "len(curated_list)\n",
    "curated_list[0]\n",
    "\n",
    "#for tweet in public_tweets_prevented:\n",
    " #   print(tweet.user.screen_name + \"\\t\" + str(tweet.created_at) + \"\\t\" + tweet.full_text)"
   ]
  },
  {
   "cell_type": "code",
   "execution_count": null,
   "metadata": {},
   "outputs": [],
   "source": []
  },
  {
   "cell_type": "code",
   "execution_count": null,
   "metadata": {},
   "outputs": [],
   "source": [
    "# 12. Get the last 50 tweets from West Lafayette, using the search API. (Hint - look up the geocode information [here](https://developer.twitter.com/en/docs/tweets/search/api-reference/get-search-tweets)).\n",
    "geocodes = \"40.425869, -86.908066, 20km\"\n",
    "\n",
    "public_tweets_wl = api.search(geocodes, count=50, exclude_replies=True, tweet_mode='extended')\n",
    "\n",
    "public_tweets_wl\n",
    "\n"
   ]
  },
  {
   "cell_type": "code",
   "execution_count": null,
   "metadata": {},
   "outputs": [],
   "source": [
    "# 13. Alter the streaming algorithm to include a \"locations\" filter to get tweets from New York City. You need to use the order sw_lng, sw_lat, ne_lng, ne_lat for the four coordinates instead of a radius as in the search API.\n",
    "\n",
    "class StreamListener(tweepy.StreamListener):\n",
    "    def on_status(self, tweet):\n",
    "        print(tweet.author.screen_name + \"\\t\" + tweet.text)\n",
    "\n",
    "    def on_error(self, status_code):\n",
    "        print( 'Error: ' + repr(status_code))\n",
    "        return False\n",
    "\n",
    "l = StreamListener()\n",
    "streamer = tweepy.Stream(auth=auth, listener=l, tweet_mode='extended')\n",
    "\n",
    "keywords = ['\"covid\"']\n",
    "streamer.filter(track = keywords)\n"
   ]
  }
 ],
 "metadata": {
  "kernelspec": {
   "name": "python388jvsc74a57bd0222ee89ac36caf543a5b11b90fd7ced6523a669b7b6ef607d42c5b661b662683",
   "display_name": "Python 3.8.8 64-bit ('base': conda)"
  },
  "language_info": {
   "codemirror_mode": {
    "name": "ipython",
    "version": 3
   },
   "file_extension": ".py",
   "mimetype": "text/x-python",
   "name": "python",
   "nbconvert_exporter": "python",
   "pygments_lexer": "ipython3",
   "version": "3.8.8"
  }
 },
 "nbformat": 4,
 "nbformat_minor": 2
}