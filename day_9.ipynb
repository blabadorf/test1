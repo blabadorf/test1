{
 "cells": [
  {
   "cell_type": "markdown",
   "metadata": {},
   "source": [
    "## Using APIs in Projects\n",
    "\n",
    "\n",
    "When getting data from APIs, I strongly suggest following a three-step workflow:\n",
    "\n",
    "1. Write some code that gets data from an API and saves all of the data (if possible) to a file - get anything you could possibly want. Raw data. \n",
    "2. Write a second program (usually a second file) that loads the data from the API, extracts the data that will be useful for analysis, and saves it in a flat file (typically a CSV).\n",
    "3. Program number 3 loads the CSV file and does the analysis\n",
    "\n",
    "This approach has a few important benefits.\n",
    "\n",
    "The first and most important is that often it is difficult to get the same raw data again. If you are using Twitter, then the Search API only lets you get the last week. If you are doing analysis a month down the road and decide that you really wish you had saved metadata about the number of retweets, it is too late. By saving the raw data you can change your measures or analysis strategy and still have access to the data.\n",
    "\n",
    "The second is that this gives you a nice pipeline, with intermediate files. Instead of including the entire raw data file in the code that does analysis, you only have to load the CSV, which is often much smaller and easier to work with.\n",
    "\n",
    "This brief lesson will show an example of this workflow, using `tweepy`.\n",
    "\n",
    "Note that I'm going to put everything in one file for convenience, but my typical workflow is to put these in separate files and then run each file separately."
   ]
  },
  {
   "cell_type": "markdown",
   "metadata": {},
   "source": [
    "## Program 1 - Data Retrieval\n",
    "\n",
    "The goal of our project is to produce a visualization of the histogram of the number of retweets for recent tweets about President Trump. The first program gets tweets about President Trump."
   ]
  },
  {
   "cell_type": "code",
   "execution_count": 4,
   "metadata": {},
   "outputs": [],
   "source": [
    "import tweepy\n",
    "import json\n",
    "from twitter_authentication import CONSUMER_KEY, CONSUMER_SECRET, ACCESS_TOKEN, ACCESS_TOKEN_SECRET\n",
    "\n",
    "auth = tweepy.OAuthHandler(CONSUMER_KEY, CONSUMER_SECRET)\n",
    "auth.set_access_token(ACCESS_TOKEN, ACCESS_TOKEN_SECRET)\n",
    "api = tweepy.API(auth, wait_on_rate_limit=True)"
   ]
  },
  {
   "cell_type": "code",
   "execution_count": 5,
   "metadata": {
    "tags": [
     "outputPrepend"
    ]
   },
   "outputs": [
    {
     "output_type": "stream",
     "name": "stdout",
     "text": [
      "ficer was attacked in the throat multiple times with a taser...\n",
      "Yes.. blood thirsty scumbags..\n",
      "They set up a noose for a hanging.\n",
      "Yes .. blood thirsty.\n",
      "ImprisonDJT\t2021-05-28 22:41:14\t@LLCWalk @gmangeegee @seanhannity Proof there was a coordinated attack on capitol by traitor Trump and his accomplices.https://t.co/cM2QmfZN66\n",
      "veropat7\t2021-05-28 22:41:13\tJan. 6th was a peaceful protest, infiltrated by Antifa&amp; BLM, supported by Pelosi to charge the Republicans &amp; Trump. Look at the video before, Trump NEVER said to violently protest! https://t.co/HPuPIg4k4Y\n",
      "dd_chip\t2021-05-28 22:41:13\t@Mytwocents_801 @KarenMHJ @CortesSteve You really want it both ways. \"No one was trying to overturn the election on Jan 6th due to them believing that the election was stolen from them due to massive fraud because Trump said so\". Also \"there was massive fraud cuz Trump said so\".\n",
      "UnluckyLeif\t2021-05-28 22:41:12\t@EpochTimes @AlanDersh @netflix That’s Republican’s favourite pedophile lawyer, Mr Alan Dershowitz, dear friend of Mr Epstein and Mr Trump... quite the ring...\n",
      "Mike12493192\t2021-05-28 22:41:12\t@TheTNHoller Republicans chose Trump and domestic terrorists over America.\n",
      "PamelaJNM\t2021-05-28 22:41:12\teeh, Alex Jones isn’t a credible source but I believe the NY AG is going in that direction. Anything to stop Trump from running, that’s all they got. https://t.co/jzqW2lMIyM\n",
      "spt0n11\t2021-05-28 22:41:12\t@RepTimBurchett @SchmittNYC @VP BTW, Republicans weren't this concerned about the health and safety of these children during the Trump administration as I recall. When will you start speaking truth to your constituents?\n",
      "Tyspeakstruth\t2021-05-28 22:41:11\tIf Chuck Schumer thinks the GOP is trying to sweep what happened on Jan 6th under the rug, then why when Trump’s lawyers during the hearing asked to bring in witnesses they denied it?\n",
      "UKtoUSmomma\t2021-05-28 22:41:11\t@RichLowry Remember when Trump told us there were 15 cases and it would soon be zero?\n",
      "bmnzgrl\t2021-05-28 22:41:10\tCan you give the name of the book you recommended today? Has to do with demo and Trump I didn't write it down but you said it was a great read. Thanks Julie\n",
      "TerrienLynnette\t2021-05-28 22:41:09\t@LeaderMcConnell You..YOU PERSONALLY are an evil evil man. I watched the intersection, I watched trump watching the entire riot on cc t.v. Why did it 75 minutes to call police. You are an INFINITE FAILURE and will be remembered as such.\n",
      "randomtrump1\t2021-05-28 22:41:09\tRandom Trump https://t.co/FrSMWR3lMv - #randomtrump #trump #donaldtrump #giphy #gif #gifs https://t.co/NvEgvWth4W\n",
      "UmamaGoblin\t2021-05-28 22:41:06\tNot sure if regressives are unwilling to acknowledge Creepy Joe or are just defending him with the fallacy of “but trump creepy too” 🤔 I highly doubt it’s the third option of having the awareness to understand that most politicians have been seen being creepy at times 🤷‍♂️ https://t.co/Xc2IvrS844\n",
      "BrentDa49382602\t2021-05-28 22:41:06\tLook at my African-American friend over there. dotard j tRump https://t.co/KNl13pUCCF\n",
      "petuniafishcoco\t2021-05-28 22:41:05\t@AhmedBaba_ I’m not so sure about trump anymore but mtg and Gaetz have picked up the baton. I think they’re the ones to be focused on now.\n",
      "nona58701047\t2021-05-28 22:41:05\tSo what? It will all fizzle to naught like everything else involving Trump and his minions. They have the Devil working for them, there is no other explanation! https://t.co/lTFEJE5eCQ\n",
      "lastpatriotsusa\t2021-05-28 22:41:03\tPresident Trump: \"What Happens when People Find Out All These States Are Gonna Flip, Does That Mean You Go 3.5 Years With Someone Destroying Our Country?\" https://t.co/BI5G95n8Wa via @gatewaypundit\n",
      "KanklesInLaw\t2021-05-28 22:41:03\t@AmyAThatcher It makes no sense! McConnell has been reported that he hates Trump? Why has Trump never served time? 99% of us would be in jail for the things he has done! And Trump say's, \"Grab 'em by the pussy\" and he still gets elected? Nope, something isn't right, not buying it!\n",
      "curry_thief\t2021-05-28 22:41:03\tRepublicans; \"1/6 was ANTIFA posed as Trump supporters! WE HAVE PROOF!\"\n",
      "\n",
      "Also Republicans; \"No need for an commission, just accept our word, would we LIE to you, I think not, LIBERALS WANT TO DESTROY DEMOCRACY!\"\n",
      "BuechnerRonald\t2021-05-28 22:41:03\t@IndivisMadison @WisDems Ask our President why the PUPPET MASTER TRUMP and his PUPPETS are  in control \n",
      "End the filibuster or Wisconsin is left behind\n",
      "Bob84451210\t2021-05-28 22:41:03\t@BernardKerik Let’s say they find Trump wins Arizona- and Georgia- Michigan. Then what is the remedy? They find Fraud and outside interference. What happens? Honest question.\n",
      "muhitreza\t2021-05-28 22:41:02\tWHITE FASHION...!!\n",
      "\n",
      "#Jesus ordered to GROPE.\n",
      "\n",
      "Former @POTUS (Trump) grabbed 19 girls.\n",
      "\n",
      "Australian Parliament?\n",
      "\n",
      "@vonderleyen @SecBlinken @jeremycorbyn @MinPres @JustinTrudeau @karinagould @SanaSaeed @RashidaTlaib @ScottMorrisonMP @JZarif @golrizghahraman @katenoconnor1 #cdnpoli https://t.co/FTmlLXYr9z\n",
      "Newsweek\t2021-05-28 22:41:02\tDonald Trump calls Paul Ryan \"a curse\" to Republicans after ex-speaker urges GOP to move in new direction https://t.co/njO0HE3708\n",
      "Bryan79921898\t2021-05-28 22:41:02\t@BradMossEsq Is McMosow Mitch really so worried that the stable genius can bring down his GOP? \n",
      "\n",
      "And by stable genius I mean the ex coach AL senator hanging out at trump hotel in DC.......on January 5th. \n",
      "Think his nick name is \n",
      "STUPIDVILLE.......\n",
      "Smack54\t2021-05-28 22:41:01\t@WalshFreedom Oh yes please lets send the other Republican criminal president to investigate Trump.  Spare me.  W. is a war criminal that let an entire American city drown.  Spare me.\n",
      "thomas_matlock\t2021-05-28 22:41:01\t@GOPChairwoman In 2015, Trump said grab them by the pussy,Ted Cruz's wife was ugly and his father helped kill JFK. But look at you followed him like a little dog.\n",
      "BathersonM\t2021-05-28 22:41:01\t@vwWW6duegJa71ct @DizZzyMissLizzy Talking about nations as a whole, not groups within nations. If that was what I were doing I might be tempted on comparing hard line CCP supporters with Trump supporters. :)\n",
      "JJRouss46184420\t2021-05-28 22:41:00\t@TheLeadCNN I don’t know about anyone else but I am getting awfully tired of waiting for any of these crooked and criminal Republicans like Gaetz, Giuliani, Trump and his corrupt kids to be arrested. If I did just ten percent of the shit they’ve done, I’d be in prison already. Why the wait?\n",
      "mioCco\t2021-05-28 22:41:00\t@mariebreizh56 @Kyrie_Eleison7 @Trump_Fact_News Ce n'est qu'un people parmi d'autres :\n",
      "https://t.co/IDcKEHT05q\n",
      "1nvitingeyes\t2021-05-28 22:40:59\tBoth are mentally I’ll talk are meant for each other ❤️ love a hillbilly wedding with a trump supporting ass lunatic ✨\n",
      "JohnGeones\t2021-05-28 22:40:59\t@cnnbrk TRUMP HAS DIRT ON EVERY REPUBLICAN. HE'S HOLDING THEM HOSTAGE\n",
      "callahoe\t2021-05-28 22:40:59\tbarack obama, george bush, donald trump, joe biden, jfk https://t.co/bGtLUsBQTg\n",
      "rumad911\t2021-05-28 22:40:59\t@GinPalaceAlice @JimmyStreich Ask TRUMP!!!! https://t.co/XqTUAow9Pf\n",
      "B12Business\t2021-05-28 22:40:59\t@tulsaworld He is pathetic.  Once he sold his soul to Trump, he lost all of my respect.\n",
      "RosemaryPrest13\t2021-05-28 22:40:58\t@SethAbramson I CAN'T DECIDE IF TRUMP JUST WANTS TO STAY OUT OF PRISON OR A CIVIL WAR!\n",
      "lefty_old\t2021-05-28 22:40:58\t@FudgeTosser @thehill And if they put big flags up in the middle of a pro Trump crowd?\n",
      "SamSanderson123\t2021-05-28 22:40:58\t@WHCOS WT literal F?  This is not what people stood in line for in GA for hours.\n",
      "\n",
      "So the Biden justice department could look the other way on Trump's crimes.  You are all sadly misreading the tea leaves and your base.  YOUR BASE.  Remember us?  Seems maybe no. \n",
      "\n",
      "https://t.co/LzuQ6mOt7I\n",
      "lau56\t2021-05-28 22:40:57\tAnother Election Audit Disproves #TraitorTrump Election Fraud Claims https://t.co/Ai2awVcJdj via @Bipartisan Report\n",
      "farrarpjoy\t2021-05-28 22:40:56\tScotland, lawsuit filed this week seeks to force an investigation of source of $300 million cash Trump used to buy, refurbish two golf courses. A golf writer said he asked Eric Trump in 2013 where the money came from and was told, “We have all the funding we need out of Russia\n",
      "WP\n",
      "ClimateChangeS7\t2021-05-28 22:40:55\t2/ Remember just a couple weeks ago Suzanne Rogers and her family, including the CEO of Rogers @EdwardSRogers were arrogant enough to post their family picture with criminal Donald Trump while vacationing at his resort Mar-a-Lago IN Florida while Ontarians were in lockdown...\n",
      "Americaunited21\t2021-05-28 22:40:55\t@LeaderMcConnell So why did there need to be any Covid help? Oh yeah your administration allowed a pandemic to ravish our country..but last I checked two bills were passed through Trump with $$$$$$ of PPP to your wife’s family and all your corp friends so sit down.\n",
      "DysonCarl\t2021-05-28 22:40:55\t@daverburgess @nprpolitics https://t.co/8mxJ8gfSlj\n",
      "achillesgirl\t2021-05-28 22:40:54\tidk who i hate worse: Trump the loud mouth maniac or Biden the quiet maniac. https://t.co/Mh0kxEfB7p\n",
      "PatZhor\t2021-05-28 22:40:53\t@RepVernonJones @BrianKempGA Like Donald Trump? Are you saying that you think Trump had something to hide Vernon?\n",
      "unewmeb41\t2021-05-28 22:40:52\tA link that proves they weren’t antifa dressed as trump supporters for those in need of confirmation. https://t.co/9vU5C6GGQI\n",
      "Taffers14Jane\t2021-05-28 22:40:52\tTrump is the puppet master controlling the strings attached to these traitors with his tiny little hands!  @johnfeal2 https://t.co/nqO8FXWJso\n",
      "trump_blocked\t2021-05-28 22:40:51\t@Heathclifshart2 Well maybe it’s a bit on the girthy side...\n",
      "bgdesign\t2021-05-28 22:40:50\t@brooklynnygirl @YouTube What a waste of time! Yes, cnn is struggling after they leached on Trump for many years. And? None of these panelists said anything new or enlightening.\n",
      "GampSairy\t2021-05-28 22:40:49\t@Catwands1 @alcawyn @JackPosobiec @stclairashley They, plus the Bugaloo Bois show up at BLM protests too , it’s what they do, hide amongst the protesters and cause trouble. And Trump’s speech is well documented he said march peaceably.\n",
      "Limited_Rampage\t2021-05-28 22:40:49\t@JulieTheCranky Dang. You really going to let Joe not be held accountable because “wahhhwahh I hate Trump!”\n",
      "dezgn4u\t2021-05-28 22:40:49\tThe same people work at the DOJ that worked there under trump.\n",
      "Just Garland is new and Garland is 1 of them, just like Barr, Comey, Wray and Rosenberg.\n",
      "They are right wing, with too many being white nationalists who think anyone they disagree are lowly, pathetic, lazy \"libruls\" https://t.co/l2bLgwfzuc\n",
      "kemishgaburel\t2021-05-28 22:40:49\tI just saw a “TRUMP 2024” flag on someones lawn… uhhhh what?\n",
      "LarryKn83275692\t2021-05-28 22:40:49\t@LindseyGrahamSC Graham didn't say that when Trump increased the budget\n",
      "SMck6883\t2021-05-28 22:40:49\t@Lonestar_1845 @POTUS Good call. We need to end Trump’s $3trillion dollar tax cuts for billionaires.\n",
      "28UrsaMinor82\t2021-05-28 22:40:48\t@ronswanson660 @Marcy_Powell @Observeman24 @nytimes We’re in the realm of imagination now.  Certainly not impossible.  Difficult to argue either way.\n",
      "\n",
      "(When Trump posed with that Bible in front of the church, I experienced a full body spasm.  My soul winced.  I totally hear you.)\n",
      "WeedStocksNews\t2021-05-28 22:40:47\t@Reuters Seems like the Capitol incident was worse than Pearl Harbour and 9/11 combined. Someone should put all Trump voters in Gulags and turn the U.S.A into a one-party socialist republic, right?\n",
      "_SnittyKitty_\t2021-05-28 22:40:46\t@trumpencexual @MattBraynard @LookAheadOrg I don’t care what color or race you are, there’s no one color or one race that will agree on everything. There’s no one size fits all. President Trump proved that a Republican candidate can win over people of colors! So GOP needs to get out of their comfort zone &amp; work it!\n",
      "MarkBardell1\t2021-05-28 22:40:46\t@RepSwalwell It cannot go away.  It must not go away.\n",
      "\n",
      "The Trump GOP has declared themselves an enemy of democracy.\n",
      "\n",
      "We no longer have the luxury of time while they erode our voting laws, rule of law and stability.\n",
      "\n",
      "We must act.\n",
      "JJRouss46184420\t2021-05-28 22:40:45\t@DeadlineWH @harrylitman @NicolleDWallace I don’t know about anyone else but I am getting awfully tired of waiting for any of these crooked and criminal Republicans like Gaetz, Giuliani, Trump and his corrupt kids to be arrested. If I did just ten percent of the shit they’ve done, I’d be in prison already. Why the wait?\n",
      "AndreaSseebold1\t2021-05-28 22:40:44\t@LeaderMcConnell @SecElaineChao and her family sure made out from Trump administration- investigate, investigate and investigate!   Time for the Democratics to play your game!\n",
      "98200cc1cc184c7\t2021-05-28 22:40:44\t@John_barron_19 TRUMP WON‼️ https://t.co/uNeF5w0xcM\n",
      "SYLVIASELZER\t2021-05-28 22:40:44\t@russholmes137 @peterjukes @Otto_English Elements of the Trump personality...\n",
      "fabiosmom1\t2021-05-28 22:40:43\t@maddenifico @MattZ_NYC Manson.  Trump.  \n",
      "\n",
      "Find lost, disgruntled people who love you and make them believe you love them more.  You GET them.  You will SAVE them. \n",
      "\n",
      "Suckers fall for this all the time.\n",
      "badpersonbot\t2021-05-28 22:40:43\tIt is not that Donald Trump gleefully touches his dog's butt, it's that Richard Spencer stupidly spanks teenage girl's diaries during his kid's dumb recital.\n",
      "mueller_rpt_bot\t2021-05-28 22:40:43\tPetersburg Economic Forum with candidate Trump and saying that Putin or Russian Prime Minister Dmitry Medvedev might be there.\n",
      "caa1000\t2021-05-28 22:40:41\tLike the #Trump administration is still stuck in the #USPS...  Mail delayed and expensive?  What??? https://t.co/hIfsUUtM9t\n",
      "Udomingod\t2021-05-28 22:40:41\t@HillaryClinton Hmmmm, CNN, .... Democrat and globalists still carry this on top of their head, all because of Trump. The fear of Trump coming back! The only reason for continuation, is to gain public empathy and ban Trump and any Trump's Republican associates from contesting.\n",
      "lady_cybele\t2021-05-28 22:40:40\t@DeaconBlues0 As POTUS, trump once retweeted a video of a supporter saying, \"The only good Democrat is a dead Democrat\". A POTUS  publicly promoted the idea that Americans who vote a certain way should be dead. That level of hatred  is frightening.\n",
      "And the .@GOP condones it.  \n",
      "#VoteBlue2022 https://t.co/2K1vFukiSc\n",
      "meljgnoakes1\t2021-05-28 22:40:40\tPresident Trump Swings Back at Paul Ryan and the DeceptiCons https://t.co/cr7mQtmRRl\n",
      "meredithllee\t2021-05-28 22:40:39\tMay 2021 -- Trump in a statement pushes for another audit of the 2020 election in Georgia, as elected Republicans in an increasing a number of states across the country move toward similar efforts\n",
      "RichardMcguig13\t2021-05-28 22:40:38\t@SpeakerPelosi I TOLD YOU BEFORE AND IM TELLING YOU AGAIN,  YOU ARE CONVERTING ALL RACES TO REPUBLICAN, THE FREE MONEY ISN'T WORKING ANYMORE. THE MORE YOU GONAFYER TRUMP AND FAIL THE MORE PEOPLE REALIZE YOU FULL OF SHIT. INTRIED TO HELP YOU 5 TIMES 6 TIMES BEFORE I GAVE UP\n",
      "HokageAntoine\t2021-05-28 22:40:38\t@I_Artorius @MasterCasters @Jyreid17 @disclosetv Yeah\n",
      "He is a centerist, no matter what fox news says\n",
      "Bernie and AOC are leftists\n",
      "But Biden is a centrists\n",
      "\n",
      "We are replacing our Trump, with a new coalition of our Biden and our Mitt Romney\n",
      "Servelan\t2021-05-28 22:40:37\tTennessee Shelter for Immigrant Children Opened Under Trump | Political News | US News https://t.co/Qo0FKNe5S7\n",
      "SiebertPatti\t2021-05-28 22:40:37\t@LindseyGrahamSC so ur deff part of the Des ruction of the Capitol Jan 6. I knew u were a  traitor piece of worthless crap. Hiding and still not coming out of the closet. We all know ur gay. Get ur lips off Trump's balls. Quit screwing the Country.\n",
      "EZsBack\t2021-05-28 22:40:36\t@tedcruz I’m 2016, Trump called Cruz’s wife ugly, and insinuated that his father killed JFK, and Ted fought back by gargling his nuts ever since. 👍🏼🖕🏻🖕🏻🖕🏻\n",
      "camiluhcameelah\t2021-05-28 22:40:36\tI’ve seen republicans for Biden, but I just saw democrats for trump. Trying to compute.\n",
      "TheFormerEsq212\t2021-05-28 22:40:35\t@TGMowerman It's too easy to label anyone who doesn't agree with them as a \"Trump supporter\" (simply because of the connotation that THEY and their media lords created), and then react accordingly, than it is to dissect motives, reasoning and acting appropriately.\n",
      "eviebauer727\t2021-05-28 22:40:35\tThere isn’t going to be any Bipartisan anything and if ANY Republicans get upset about that…they can take their complaint forms straight to @LeaderMcConnell desk and hand it to him. He never had any intent to work with Biden and Trump is behind the scenes FORBIDDING IT anyway. https://t.co/pJjnttGsMp\n",
      "secularcitizen2\t2021-05-28 22:40:35\t@SenSchumer @flajeffreyt It was the neoliberal policies of corrupt politicians like yourself who helped Trump attain the presidency, and with @JoeBiden and the continued pursuit of neoliberalism, you're helping the next Trump do the same.\n",
      "user4942_42641\t2021-05-28 22:40:34\t@Liz_Cheney Anyone saying Cheney, Romney, &amp; the others who voted in favor of #January6thCommission  did so bc they knew it wouldn't go through don't know their history in the news. Media has chronicled 4+ GOP patriots who are defending democracy &amp; have not been in league w/Trump.\n",
      "williary8617\t2021-05-28 22:40:33\t@stevenusdavis Because deep down, they agree with Trump. Some just didn’t like the way he presented himself.\n",
      "proudCanadavet\t2021-05-28 22:40:33\tLong After Trump’s Loss, a Push to Inspect Ballots Persists https://t.co/zzoboJxXOB\n",
      "LibertyAndFree4\t2021-05-28 22:40:33\tSeth Meyers Calls Trump the ‘David Blaine of Crime’ https://t.co/ij6SGVEFzw\n",
      "ScottCa32260084\t2021-05-28 22:40:30\t@ryanoistacher @mattgaetz I could vote for Paul Ryan but will never vote for Trump  or anyone  associated with him. There are many people out there who feel the same way I do.\n",
      "bogosian\t2021-05-28 22:40:30\tBiden decides to take a photo op in Trump Tower.\n",
      "\n",
      "He decides the only way he'll be safe is if he burns the place to the ground and run away.\n",
      "\n",
      "*IMMUNITY*\n",
      "\n",
      "https://t.co/aRsww374QW\n",
      "ezpainter\t2021-05-28 22:40:30\tAnd the UN gen assembly  isn't laughing at him because they know it's true. \n",
      "Could  #Trump be learning from this?\n",
      "I doubt it. https://t.co/Rj3N5Ltsl3\n",
      "edward_tanguay\t2021-05-28 22:40:29\t@JoeBiden God, what useless PR garbage, as bad as the blathering that came from Trump and Obama and Clinton and Bush, etc.  all the way back to Reagan. Can we get a President who just does their fucking job instead of constantly trying to promote themselves like some common shelf product?\n",
      "DizzyOctopus\t2021-05-28 22:40:29\t@RepMTG Hey @repmtg you know tRump calls you horse-face behind your back don't you? He's pleased as punch about how he has hijacked the GOP and is running it into the ground while all you idiots defend him and grovel at his feet. Keep at it &amp; the GOP will continue to flail into oblivion.\n",
      "dmaofkansascity\t2021-05-28 22:40:28\t@RepValDemings Now why would they do that?? The hacked unreleased @GOP emails are the key to Republican leadership succumbing to Trump. Now they're complicit in seditious acts and traitors to their country.\n",
      "Georges19183010\t2021-05-28 22:40:28\t@tongorocho Porque enganan son recibidos asi porque Trump firmo una ley que proteje a los venezolanos y no podran ser deportados .Claro son llevados a un centro de detencion para chequearlos primero.El socialismo y comunismo es igual a Pobreza y miseria para el pueblo ....\n",
      "DastDn\t2021-05-28 22:40:27\t@varadmehta 2/2 Trump's personal popularity doesn't really come into that, since he doesn't really have an ideology. He was mostly a catalyst of long-term shifts to erupt to the surface.\n",
      "SenhorRaposa\t2021-05-28 22:40:27\t@HatRuben @umichvoter No, Trump +15 is way beyond anything she could win\n",
      "dawson19791\t2021-05-28 22:40:26\t@DonLew87 burr and toomey voted to convict trump\n",
      "funkutron\t2021-05-28 22:40:26\t@Roshan_Rinaldi They're all so Goddamned stupid. One less Trump voter. It's awful to feel that way about people, but good riddance.\n",
      "TwicksRitter\t2021-05-28 22:40:25\t@nflbronco @AllbrightNFL The special victim narrative is old. Dems catch a lot of calls for accountability. It just usually happens when Rs have control. Rs are not victims. Trump made that narrative stick like tar...unfortunate.\n"
     ]
    }
   ],
   "source": [
    "# Make a list to store the results\n",
    "results = []\n",
    "for tweet in tweepy.Cursor(api.search, \n",
    "                           q='Trump -filter:retweets', # only get the original tweets\n",
    "                           tweet_mode = 'extended',\n",
    "                           count=200).items(5000): # Change this to as high as you like, if you have time :)\n",
    "    results.append(tweet._json)\n",
    "    print(tweet.user.screen_name + \"\\t\" + str(tweet.created_at) + \"\\t\" + tweet.full_text)"
   ]
  },
  {
   "cell_type": "code",
   "execution_count": 6,
   "metadata": {},
   "outputs": [],
   "source": [
    "# Then, write the results to a file\n",
    "with open('raw_trump_tweets.json', 'w') as f:\n",
    "    json.dump(results, f)"
   ]
  },
  {
   "cell_type": "markdown",
   "metadata": {},
   "source": [
    "## Program 2 - Data Cleaning\n",
    "\n",
    "This program loads the saved raw data, grabs what we want, and converts it into a csv.\n",
    "\n",
    "I decided to save the timestamp, text, and retweet and favorite counts.\n",
    "\n",
    "This is also where you typically would do more complicated measure creation. Here I show how to create a measure of tweet_length."
   ]
  },
  {
   "cell_type": "code",
   "execution_count": 7,
   "metadata": {},
   "outputs": [],
   "source": [
    "with open('raw_trump_tweets.json', 'r') as f:\n",
    "    tweets = json.load(f) #the output itself"
   ]
  },
  {
   "cell_type": "code",
   "execution_count": null,
   "metadata": {},
   "outputs": [],
   "source": [
    "import csv\n",
    "with open('cleaned_data.csv', 'w', \n",
    "          encoding='UTF-8',\n",
    "          newline='') as fn:\n",
    "    f = csv.writer(fn)\n",
    "    f.writerow(['created_at',\n",
    "                'tweet_text',\n",
    "                'retweets',\n",
    "                'favorites',\n",
    "                'tweet_length'\n",
    "               ])\n",
    "    for tweet in tweets:\n",
    "        f.writerow([tweet['created_at'], \n",
    "                    tweet['full_text'],\n",
    "                    tweet['retweet_count'],\n",
    "                    tweet['favorite_count'],\n",
    "                    len(tweet['full_text'])\n",
    "                   ])"
   ]
  },
  {
   "cell_type": "markdown",
   "metadata": {},
   "source": [
    "## Program 3 - Data Analysis\n",
    "\n",
    "Here we use pandas to load the data and analyze it. This could include statistical tests. Here, I'm just visualizing the distribution of retweets and the relationship between retweets and length."
   ]
  },
  {
   "cell_type": "code",
   "execution_count": 1,
   "metadata": {},
   "outputs": [],
   "source": [
    "import pandas as pd\n",
    "import seaborn as sns"
   ]
  },
  {
   "cell_type": "code",
   "execution_count": 2,
   "metadata": {},
   "outputs": [],
   "source": [
    "df = pd.read_csv('./cleaned_data.csv')"
   ]
  },
  {
   "cell_type": "code",
   "execution_count": 3,
   "metadata": {},
   "outputs": [
    {
     "output_type": "execute_result",
     "data": {
      "text/plain": [
       "Empty DataFrame\n",
       "Columns: [created_at, tweet_text, retweets, favorites, tweet_length]\n",
       "Index: []"
      ],
      "text/html": "<div>\n<style scoped>\n    .dataframe tbody tr th:only-of-type {\n        vertical-align: middle;\n    }\n\n    .dataframe tbody tr th {\n        vertical-align: top;\n    }\n\n    .dataframe thead th {\n        text-align: right;\n    }\n</style>\n<table border=\"1\" class=\"dataframe\">\n  <thead>\n    <tr style=\"text-align: right;\">\n      <th></th>\n      <th>created_at</th>\n      <th>tweet_text</th>\n      <th>retweets</th>\n      <th>favorites</th>\n      <th>tweet_length</th>\n    </tr>\n  </thead>\n  <tbody>\n  </tbody>\n</table>\n</div>"
     },
     "metadata": {},
     "execution_count": 3
    }
   ],
   "source": [
    "df"
   ]
  },
  {
   "cell_type": "code",
   "execution_count": null,
   "metadata": {},
   "outputs": [],
   "source": [
    "# Just make sure it looks OK.\n",
    "df.sort_values('retweets')"
   ]
  },
  {
   "cell_type": "code",
   "execution_count": null,
   "metadata": {},
   "outputs": [],
   "source": [
    "sns.distplot(df.retweets)"
   ]
  },
  {
   "cell_type": "markdown",
   "metadata": {},
   "source": [
    "As expected, it's super skewed, with most tweets never getting retweeted while a few get tons of retweets.\n",
    "\n",
    "Let's see if it changes if we get rid of the tweets that never got retweeted (like, maybe we have a principled reason to believe they are different than other tweets)."
   ]
  },
  {
   "cell_type": "code",
   "execution_count": null,
   "metadata": {},
   "outputs": [],
   "source": [
    "sns.distplot(df.loc[df.retweets > 0, 'retweets'])"
   ]
  },
  {
   "cell_type": "markdown",
   "metadata": {},
   "source": [
    "As I thought, this is a somewhat \"scale-free\" distribution, meaning wherever you zoom in, you see the same pattern. Try changing the `0` up above to any (small) number."
   ]
  },
  {
   "cell_type": "markdown",
   "metadata": {},
   "source": [
    "For fun, let's also look at the relationship between retweets and tweet length."
   ]
  },
  {
   "cell_type": "code",
   "execution_count": null,
   "metadata": {},
   "outputs": [],
   "source": [
    "import numpy as np"
   ]
  },
  {
   "cell_type": "code",
   "execution_count": null,
   "metadata": {},
   "outputs": [],
   "source": [
    "sns.jointplot(y='retweets', x='tweet_length', data = df);"
   ]
  },
  {
   "cell_type": "code",
   "execution_count": null,
   "metadata": {},
   "outputs": [],
   "source": [
    "# Because retweets are so skewed, let's log them\n",
    "p = sns.jointplot(y=np.log(df.retweets + 1), x='tweet_length', data = df)\n",
    "p.set_axis_labels('Tweet Length','Retweets (log)');"
   ]
  },
  {
   "cell_type": "code",
   "execution_count": null,
   "metadata": {},
   "outputs": [],
   "source": [
    "\n"
   ]
  },
  {
   "cell_type": "code",
   "execution_count": null,
   "metadata": {},
   "outputs": [],
   "source": []
  },
  {
   "cell_type": "code",
   "execution_count": null,
   "metadata": {},
   "outputs": [],
   "source": []
  },
  {
   "cell_type": "code",
   "execution_count": null,
   "metadata": {},
   "outputs": [],
   "source": []
  },
  {
   "cell_type": "code",
   "execution_count": null,
   "metadata": {},
   "outputs": [],
   "source": []
  },
  {
   "cell_type": "code",
   "execution_count": null,
   "metadata": {},
   "outputs": [],
   "source": []
  }
 ],
 "metadata": {
  "kernelspec": {
   "name": "python388jvsc74a57bd0222ee89ac36caf543a5b11b90fd7ced6523a669b7b6ef607d42c5b661b662683",
   "display_name": "Python 3.8.8 64-bit ('base': conda)"
  },
  "language_info": {
   "codemirror_mode": {
    "name": "ipython",
    "version": 3
   },
   "file_extension": ".py",
   "mimetype": "text/x-python",
   "name": "python",
   "nbconvert_exporter": "python",
   "pygments_lexer": "ipython3",
   "version": "3.8.8"
  }
 },
 "nbformat": 4,
 "nbformat_minor": 2
}